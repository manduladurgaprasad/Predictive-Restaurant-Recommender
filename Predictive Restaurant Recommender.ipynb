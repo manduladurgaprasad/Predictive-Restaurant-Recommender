{
 "cells": [
  {
   "cell_type": "code",
   "execution_count": null,
   "id": "246962b5-5669-4ce3-ba2b-7d8b6da6a6c9",
   "metadata": {},
   "outputs": [],
   "source": [
    "import pandas as pd\n",
    "import numpy as np\n",
    "from sklearn.model_selection import GroupShuffleSplit\n",
    "from sklearn.linear_model import LogisticRegression\n",
    "from sklearn.preprocessing import StandardScaler\n",
    "from sklearn.pipeline import Pipeline\n",
    "from sklearn.metrics import roc_auc_score\n"
   ]
  },
  {
   "cell_type": "code",
   "execution_count": 39,
   "id": "41baccd7-9740-4d87-acfa-ec064620d601",
   "metadata": {},
   "outputs": [
    {
     "name": "stderr",
     "output_type": "stream",
     "text": [
      "C:\\Users\\mandu\\AppData\\Local\\Temp\\ipykernel_26472\\2794754822.py:17: DtypeWarning: Columns (15,16,18,19,20) have mixed types. Specify dtype option on import or set low_memory=False.\n",
      "  train = pd.read_csv(f)\n"
     ]
    },
    {
     "name": "stdout",
     "output_type": "stream",
     "text": [
      "Files in test ZIP: ['Test/test_customers.csv', 'Test/test_locations.csv']\n",
      "Train shape: (135303, 26)\n",
      "Test shape: (9768, 8)\n",
      "   order_id customer_id  item_count  grand_total  payment_mode promo_code  \\\n",
      "0  163923.0     KL09J9N         6.0         10.1             1        NaN   \n",
      "1  163924.0     H5LGGFX         3.0          8.4             1        NaN   \n",
      "2  163925.0     CYLZB6T         4.0         15.0             1        NaN   \n",
      "3  163929.0     4YKUKYN         7.0         27.2             1        NaN   \n",
      "4  163930.0     WDNU30K         1.0          6.5             1        NaN   \n",
      "\n",
      "   vendor_discount_amount  promo_code_discount_percentage is_favorite  \\\n",
      "0                     0.0                             NaN         NaN   \n",
      "1                     0.0                             NaN         NaN   \n",
      "2                     0.0                             NaN         NaN   \n",
      "3                     0.0                             NaN         NaN   \n",
      "4                     0.0                             NaN         NaN   \n",
      "\n",
      "  is_rated  ...  driver_accepted_time  ready_for_pickup_time  picked_up_time  \\\n",
      "0       No  ...                   NaN                    NaN             NaN   \n",
      "1       No  ...                   NaN                    NaN             NaN   \n",
      "2       No  ...                   NaN                    NaN             NaN   \n",
      "3       No  ...                   NaN                    NaN             NaN   \n",
      "4       No  ...                   NaN                    NaN             NaN   \n",
      "\n",
      "   delivered_time  delivery_date vendor_id     created_at LOCATION_NUMBER  \\\n",
      "0             NaN  8/1/2024 5:30        84  8/2/2024 5:33               0   \n",
      "1             NaN  8/1/2024 5:30        78  8/2/2024 5:34               0   \n",
      "2             NaN  8/1/2024 5:30         4  8/2/2024 5:35               0   \n",
      "3             NaN  8/1/2024 5:30       157  8/2/2024 5:39               0   \n",
      "4             NaN  8/1/2024 5:30       160  8/2/2024 5:39               0   \n",
      "\n",
      "  LOCATION_TYPE CID X LOC_NUM X VENDOR  \n",
      "0          Work       KL09J9N X 0 X 84  \n",
      "1          Home       H5LGGFX X 0 X 78  \n",
      "2          Work        CYLZB6T X 0 X 4  \n",
      "3          Home      4YKUKYN X 0 X 157  \n",
      "4          Home      WDNU30K X 0 X 160  \n",
      "\n",
      "[5 rows x 26 columns]\n"
     ]
    }
   ],
   "source": [
    "# ------------------------------\n",
    "# Step 1: Load Data\n",
    "# ------------------------------\n",
    "import pandas as pd\n",
    "import zipfile\n",
    "import io\n",
    "\n",
    "# Path to your ZIP files\n",
    "train_zip_path = r\"C:\\Users\\mandu\\Downloads\\Train-20250820T105340Z-1-001.zip\"\n",
    "test_zip_path = r\"C:\\Users\\mandu\\Downloads\\Test-20250820T105339Z-1-001.zip\"\n",
    "\n",
    "# Method 1: Extract a specific file from the ZIP\n",
    "with zipfile.ZipFile(train_zip_path, 'r') as z:\n",
    "    # Choose which file you want to read from the ZIP\n",
    "    # For example, let's read the orders.csv file\n",
    "    with z.open('Train/orders.csv') as f:\n",
    "        train = pd.read_csv(f)\n",
    "        \n",
    "with zipfile.ZipFile(test_zip_path, 'r') as z:\n",
    "    # You'll need to know which file to extract from the test ZIP as well\n",
    "    # For this example, I'm assuming there's a similar structure\n",
    "    file_list = z.namelist()\n",
    "    print(\"Files in test ZIP:\", file_list)  # Print to see available files\n",
    "    \n",
    "    # Replace 'Test/test_file.csv' with the actual file you want from the test ZIP\n",
    "    # This is just a placeholder - you'll need to use the correct filename\n",
    "    test_file = [f for f in file_list if f.startswith('Test/')][0]  # Get first file\n",
    "    with z.open(test_file) as f:\n",
    "        test = pd.read_csv(f)\n",
    "\n",
    "print(\"Train shape:\", train.shape)\n",
    "print(\"Test shape:\", test.shape)\n",
    "print(train.head())\n",
    "\n",
    "# Alternative: If you want to extract all files first\n",
    "# import os\n",
    "# extract_dir = \"extracted_data\"\n",
    "# os.makedirs(extract_dir, exist_ok=True)\n",
    "# with zipfile.ZipFile(train_zip_path, 'r') as z:\n",
    "#     z.extractall(extract_dir)\n",
    "# train = pd.read_csv(os.path.join(extract_dir, \"Train\", \"orders.csv\"))"
   ]
  },
  {
   "cell_type": "code",
   "execution_count": 18,
   "id": "88cf20ab-a00b-44ee-b284-cc38f5b9a079",
   "metadata": {},
   "outputs": [],
   "source": [
    "# Step 2: Standardize column names\n",
    "# ------------------------------\n",
    "\n",
    "train.columns = train.columns.str.lower()\n",
    "test.columns = test.columns.str.lower()\n",
    "\n",
    "# Rename to standard names (edit if your columns are different)\n",
    "train = train.rename(columns={\"customer_id\":\"cid\", \"location\":\"loc_num\", \"vendor_id\":\"vendor\"})\n",
    "test = test.rename(columns={\"customer_id\":\"cid\", \"location\":\"loc_num\", \"vendor_id\":\"vendor\"})"
   ]
  },
  {
   "cell_type": "code",
   "execution_count": null,
   "id": "82cd7134-cc54-46b2-a99b-8c3b91b816e1",
   "metadata": {},
   "outputs": [
    {
     "name": "stdout",
     "output_type": "stream",
     "text": [
      "\n",
      "Missing values in Train:\n",
      " order_id                              70\n",
      "cid                                    0\n",
      "item_count                          6925\n",
      "grand_total                            0\n",
      "payment_mode                           0\n",
      "promo_code                        130998\n",
      "vendor_discount_amount                 0\n",
      "promo_code_discount_percentage     69423\n",
      "is_favorite                        35195\n",
      "is_rated                               0\n",
      "vendor_rating                      90083\n",
      "driver_rating                          0\n",
      "deliverydistance                       0\n",
      "preparationtime                    55560\n",
      "delivery_time                     130180\n",
      "order_accepted_time                48348\n",
      "driver_accepted_time               88845\n",
      "ready_for_pickup_time              51054\n",
      "picked_up_time                     51438\n",
      "delivered_time                     49562\n",
      "delivery_date                      99759\n",
      "vendor                                 0\n",
      "created_at                             0\n",
      "location_number                        0\n",
      "location_type                      48893\n",
      "cid x loc_num x vendor                 0\n",
      "loc_num                                0\n",
      "dtype: int64\n",
      "\n",
      "Top Vendors:\n",
      " vendor\n",
      "113    7807\n",
      "105    5562\n",
      "79     5117\n",
      "84     5001\n",
      "78     4643\n",
      "83     3684\n",
      "386    3280\n",
      "86     2837\n",
      "846    2559\n",
      "106    2263\n",
      "Name: count, dtype: int64\n"
     ]
    },
    {
     "data": {
      "image/png": "[encoded data removed]",
      "text/plain": [
       "<Figure size 800x400 with 1 Axes>"
      ]
     },
     "metadata": {},
     "output_type": "display_data"
    },
    {
     "name": "stdout",
     "output_type": "stream",
     "text": [
      "\n",
      "Top Vendors by Location:\n",
      "     loc_num  vendor  count\n",
      "27        0     113   7807\n",
      "24        0     105   5562\n",
      "14        0      79   5117\n"
     ]
    }
   ],
   "source": [
    "# Step 3: EDA (Data Exploration)\n",
    "\n",
    "import matplotlib.pyplot as plt  # Add this import statement for plotting\n",
    "\n",
    "print(\"\\nMissing values in Train:\\n\", train.isnull().sum())\n",
    "\n",
    "# Top vendors overall\n",
    "top_vendors = train[\"vendor\"].value_counts().head(10)\n",
    "print(\"\\nTop Vendors:\\n\", top_vendors)\n",
    "\n",
    "plt.figure(figsize=(8,4))\n",
    "top_vendors.plot(kind=\"bar\")\n",
    "plt.title(\"Top 10 Vendors Overall\")\n",
    "plt.xlabel(\"Vendor\")\n",
    "plt.ylabel(\"Number of Orders\")\n",
    "plt.show()\n",
    "\n",
    "# Top vendors by location\n",
    "top_by_loc = train.groupby([\"loc_num\",\"vendor\"]).size().reset_index(name=\"count\")\n",
    "top_by_loc = top_by_loc.sort_values([\"loc_num\",\"count\"], ascending=[True,False])\n",
    "print(\"\\nTop Vendors by Location:\\n\", top_by_loc.groupby(\"loc_num\").head(3))\n",
    "\n"
   ]
  },
  {
   "cell_type": "code",
   "execution_count": 25,
   "id": "b8a7af4b-1ecd-49e0-9a89-45d952f822b3",
   "metadata": {},
   "outputs": [],
   "source": [
    "# Step 4: Create Features\n",
    "# ------------------------------\n",
    "\n",
    "vendor_pop = train[\"vendor\"].value_counts().to_dict()\n",
    "loc_vendor_pop = train.groupby([\"loc_num\",\"vendor\"]).size().to_dict()\n",
    "user_vendor = train.groupby([\"cid\",\"vendor\"]).size().to_dict()\n",
    "user_loc = train.groupby([\"cid\",\"loc_num\"]).size().to_dict()\n",
    "\n",
    "def make_features(df):\n",
    "    \"\"\"Add numeric features\"\"\"\n",
    "    df = df.copy()\n",
    "    df[\"f_vendor_pop\"] = df[\"vendor\"].map(vendor_pop).fillna(0)\n",
    "    df[\"f_loc_vendor_pop\"] = df.apply(lambda r: loc_vendor_pop.get((r[\"loc_num\"], r[\"vendor\"]),0), axis=1)\n",
    "    df[\"f_user_vendor\"] = df.apply(lambda r: user_vendor.get((r[\"cid\"], r[\"vendor\"]),0), axis=1)\n",
    "    df[\"f_user_loc\"] = df.apply(lambda r: user_loc.get((r[\"cid\"], r[\"loc_num\"]),0), axis=1)\n",
    "    return df"
   ]
  },
  {
   "cell_type": "code",
   "execution_count": 26,
   "id": "5dc27c55-9a63-40aa-9db4-584001f867f6",
   "metadata": {},
   "outputs": [],
   "source": [
    "# Step 5: Build Training Data\n",
    "# ------------------------------\n",
    "\n",
    "# Positives\n",
    "pos = train[[\"cid\",\"loc_num\",\"vendor\"]].drop_duplicates()\n",
    "pos[\"target\"] = 1\n",
    "\n",
    "# Negatives (sample vendors not ordered by user)\n",
    "neg_samples = []\n",
    "for row in pos.itertuples(index=False):\n",
    "    cid, loc, ven, _ = row\n",
    "    loc_vendors = [v for (l,v),cnt in loc_vendor_pop.items() if l==loc]\n",
    "    for v in np.random.choice(loc_vendors, size=min(3, len(loc_vendors)), replace=False):\n",
    "        if v != ven:\n",
    "            neg_samples.append((cid,loc,v,0))\n",
    "\n",
    "neg = pd.DataFrame(neg_samples, columns=[\"cid\",\"loc_num\",\"vendor\",\"target\"])\n",
    "\n",
    "# Combine\n",
    "train_pairs = pd.concat([pos, neg], ignore_index=True)\n",
    "\n",
    "# Add features\n",
    "train_feat = make_features(train_pairs)\n",
    "X = train_feat[[\"f_vendor_pop\",\"f_loc_vendor_pop\",\"f_user_vendor\",\"f_user_loc\"]]\n",
    "y = train_feat[\"target\"]"
   ]
  },
  {
   "cell_type": "code",
   "execution_count": 27,
   "id": "9582b2b4-11b1-4037-8a2f-f2c444f7a9fa",
   "metadata": {},
   "outputs": [
    {
     "name": "stdout",
     "output_type": "stream",
     "text": [
      "\n",
      "Validation AUC: 0.980827874128439\n"
     ]
    }
   ],
   "source": [
    "# Step 6: Train/Validation Split\n",
    "# ------------------------------\n",
    "\n",
    "groups = train_feat[\"cid\"]\n",
    "gss = GroupShuffleSplit(n_splits=1, test_size=0.2, random_state=42)\n",
    "train_idx, val_idx = next(gss.split(X, y, groups))\n",
    "\n",
    "X_train, y_train = X.iloc[train_idx], y.iloc[train_idx]\n",
    "X_val, y_val = X.iloc[val_idx], y.iloc[val_idx]\n",
    "\n",
    "# Model\n",
    "model = Pipeline([\n",
    "    (\"scaler\", StandardScaler()),\n",
    "    (\"clf\", LogisticRegression(max_iter=200))\n",
    "])\n",
    "model.fit(X_train, y_train)\n",
    "\n",
    "# Validation\n",
    "val_pred = model.predict_proba(X_val)[:,1]\n",
    "auc = roc_auc_score(y_val, val_pred)\n",
    "print(\"\\nValidation AUC:\", auc)"
   ]
  },
  {
   "cell_type": "code",
   "execution_count": 37,
   "id": "64202c23-d526-475b-9ff4-f8062479c859",
   "metadata": {},
   "outputs": [],
   "source": [
    "# Step 7: Predict on Test\n",
    "# ------------------------------\n",
    "\n",
    "# First, check if 'vendor' column exists in test data\n",
    "if 'vendor' not in test.columns:\n",
    "    # Add the missing column with a default value or handle it appropriately\n",
    "    test['vendor'] = float('nan')\n",
    "\n",
    "# Check if 'loc_num' column exists in test data\n",
    "if 'loc_num' not in test.columns:\n",
    "    # Add the missing 'loc_num' column\n",
    "    # You might need to derive this value or use a default\n",
    "    test['loc_num'] = float('nan')  # or some appropriate default value\n",
    "    # If you know how to derive loc_num from other columns, do that instead\n",
    "\n",
    "# Now create features\n",
    "test_feat = make_features(test)\n",
    "X_test = test_feat[[\"f_vendor_pop\",\"f_loc_vendor_pop\",\"f_user_vendor\",\"f_user_loc\"]]\n",
    "test_feat[\"score\"] = model.predict_proba(X_test)[:,1]"
   ]
  },
  {
   "cell_type": "code",
   "execution_count": null,
   "id": "bbe36f58-8956-4a26-b0df-3ff16112b669",
   "metadata": {},
   "outputs": [],
   "source": [
    "submission = []\n",
    "for (cid, loc), group in test_feat.groupby([\"cid\",\"loc_num\"]):\n",
    "    top_vendor = group.sort_values(\"score\", ascending=False).iloc[0]\n",
    "    for row in group.itertuples(index=False):\n",
    "        target = 1 if row.vendor == top_vendor.vendor else 0\n",
    "        submission.append(f\"{row.cid} X {row.loc_num} X {row.vendor} {target}\")\n",
    "\n",
    "with open(\"submission.txt\",\"w\") as f:\n",
    "    f.write(\"CID X LOC_NUM X VENDOR target\\n\")\n",
    "    f.write(\"\\n\".join(submission))\n",
    "\n",
    "print(\"\\nSubmission file saved: submission.txt\")"
   ]
  },
  {
   "cell_type": "code",
   "execution_count": null,
   "id": "03aa96fa-0ef7-4038-8f4c-02ce3aef3471",
   "metadata": {},
   "outputs": [],
   "source": [
    "with open(\"submission.txt\",\"w\") as f:\n",
    "    f.write(\"CID X LOC_NUM X VENDOR target\\n\")\n",
    "    f.write(\"\\n\".join(submission))\n",
    "\n",
    "print(\"\\nSubmission file saved: submission.txt\")\n"
   ]
  },
  {
   "cell_type": "code",
   "execution_count": null,
   "id": "62315bec-1222-4c2a-a217-307fd144454d",
   "metadata": {},
   "outputs": [],
   "source": [
    "# Check submission file\n",
    "with open(\"submission.txt\",\"r\") as f:\n",
    "    lines = f.readlines()\n",
    "\n",
    "print(\"✅ Submission File Preview:\\n\")\n",
    "print(\"\".join(lines[:15]))  # show first 15 lines\n"
   ]
  },
  {
   "cell_type": "code",
   "execution_count": 36,
   "id": "5a2ed970-e25d-4cdc-9e15-df006ddad346",
   "metadata": {},
   "outputs": [
    {
     "name": "stdout",
     "output_type": "stream",
     "text": [
      "File copied to C:\\Users\\mandu\\Downloads\\submission.txt\n"
     ]
    }
   ],
   "source": [
    "import os\n",
    "import shutil\n",
    "\n",
    "destination_path = os.path.join(os.path.expanduser('~'), 'Downloads')\n",
    "shutil.copy('submission.txt', destination_path)\n",
    "print(f\"File copied to {os.path.join(destination_path, 'submission.txt')}\")"
   ]
  },
  {
   "cell_type": "markdown",
   "id": "9abca0d1-fa42-4a22-84ae-6a8e4ffed2b9",
   "metadata": {},
   "source": []
  }
 ],
 "metadata": {
  "kernelspec": {
   "display_name": "Python [conda env:anaconda3]",
   "language": "python",
   "name": "conda-env-anaconda3-py"
  },
  "language_info": {
   "codemirror_mode": {
    "name": "ipython",
    "version": 3
   },
   "file_extension": ".py",
   "mimetype": "text/x-python",
   "name": "python",
   "nbconvert_exporter": "python",
   "pygments_lexer": "ipython3",
   "version": "3.12.7"
  }
 },
 "nbformat": 4,
 "nbformat_minor": 5
}
